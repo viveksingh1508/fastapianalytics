{
 "cells": [
  {
   "cell_type": "code",
   "execution_count": 3,
   "id": "948ab668",
   "metadata": {},
   "outputs": [
    {
     "name": "stdout",
     "output_type": "stream",
     "text": [
      "http://localhost:8000/api/events\n",
      "True\n",
      "{\"items\":[1,2,3]}\n"
     ]
    }
   ],
   "source": [
    "import requests\n",
    "path=\"api/events\"\n",
    "base_url=\"http://localhost:8000\"\n",
    "end_point=f\"{base_url}/{path}\"\n",
    "print(end_point)\n",
    "response=requests.get(end_point)\n",
    "print(response.ok)\n",
    "print(response.text)"
   ]
  },
  {
   "cell_type": "code",
   "execution_count": null,
   "id": "30776805",
   "metadata": {},
   "outputs": [],
   "source": []
  }
 ],
 "metadata": {
  "kernelspec": {
   "display_name": "venv",
   "language": "python",
   "name": "python3"
  },
  "language_info": {
   "codemirror_mode": {
    "name": "ipython",
    "version": 3
   },
   "file_extension": ".py",
   "mimetype": "text/x-python",
   "name": "python",
   "nbconvert_exporter": "python",
   "pygments_lexer": "ipython3",
   "version": "3.13.1"
  }
 },
 "nbformat": 4,
 "nbformat_minor": 5
}
