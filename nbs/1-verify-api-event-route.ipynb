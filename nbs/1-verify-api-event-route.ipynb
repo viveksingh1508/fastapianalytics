{
 "cells": [
  {
   "cell_type": "code",
   "execution_count": 27,
   "id": "948ab668",
   "metadata": {},
   "outputs": [
    {
     "name": "stdout",
     "output_type": "stream",
     "text": [
      "http://localhost:8000/api/events\n",
      "True\n",
      "{\"results\":[{\"id\":2,\"page\":\"test\",\"description\":\"123\"},{\"id\":3,\"page\":\"test\",\"description\":\"123\"},{\"id\":4,\"page\":\"test\",\"description\":\"123\"},{\"id\":1,\"page\":\"test\",\"description\":\"this is updated description\"}],\"count\":4}\n"
     ]
    }
   ],
   "source": [
    "import requests\n",
    "path=\"api/events\"\n",
    "base_url=\"http://localhost:8000\"\n",
    "end_point=f\"{base_url}/{path}\"\n",
    "print(end_point)\n",
    "response=requests.get(end_point)\n",
    "print(response.ok)\n",
    "print(response.text)"
   ]
  },
  {
   "cell_type": "code",
   "execution_count": 23,
   "id": "30776805",
   "metadata": {},
   "outputs": [],
   "source": [
    "import requests"
   ]
  },
  {
   "cell_type": "code",
   "execution_count": 24,
   "id": "0d7a82e0-b93c-4cc2-9932-0e4815a3d251",
   "metadata": {},
   "outputs": [
    {
     "name": "stdout",
     "output_type": "stream",
     "text": [
      "{'date': 'Wed, 30 Apr 2025 17:58:28 GMT', 'server': 'uvicorn', 'content-length': '42', 'content-type': 'application/json'}\n",
      "ok True\n",
      "{'id': 4, 'page': 'test', 'description': '123'} <class 'dict'> None\n"
     ]
    }
   ],
   "source": [
    "path='/api/events/'\n",
    "base_url=\"http://localhost:8000\"\n",
    "create_endpoint=f\"{base_url}/{path}\"\n",
    "response=requests.post(create_endpoint,json={\"page\":\"test\",\"description\":\"123\"})\n",
    "print(response.headers)\n",
    "print('ok',response.ok)\n",
    "if response.ok:\n",
    "    data=response.json()\n",
    "    print(data,type(data),data.get('items'))\n",
    "else:\n",
    "    print('response.text')"
   ]
  },
  {
   "cell_type": "code",
   "execution_count": 26,
   "id": "f8eeaaf1-786c-4cb8-993c-15fa85b9b984",
   "metadata": {},
   "outputs": [
    {
     "name": "stdout",
     "output_type": "stream",
     "text": [
      "{'date': 'Wed, 30 Apr 2025 18:22:53 GMT', 'server': 'uvicorn', 'content-length': '66', 'content-type': 'application/json'}\n",
      "ok True\n",
      "{'id': 1, 'page': 'test', 'description': 'this is updated description'} <class 'dict'> None\n"
     ]
    }
   ],
   "source": [
    "path='/api/events/1/'\n",
    "base_url=\"http://localhost:8000\"\n",
    "create_endpoint=f\"{base_url}/{path}\"\n",
    "response=requests.put(create_endpoint,json={\"page\":\"test\",\"description\":\"this is updated description\"})\n",
    "print(response.headers)\n",
    "print('ok',response.ok)\n",
    "if response.ok:\n",
    "    data=response.json()\n",
    "    print(data,type(data),data.get('items'))\n",
    "else:\n",
    "    print('response.text')"
   ]
  },
  {
   "cell_type": "code",
   "execution_count": null,
   "id": "3fdcefe0-0f3d-4e5b-b37b-517b2d0299a5",
   "metadata": {},
   "outputs": [],
   "source": []
  }
 ],
 "metadata": {
  "kernelspec": {
   "display_name": "Python 3 (ipykernel)",
   "language": "python",
   "name": "python3"
  },
  "language_info": {
   "codemirror_mode": {
    "name": "ipython",
    "version": 3
   },
   "file_extension": ".py",
   "mimetype": "text/x-python",
   "name": "python",
   "nbconvert_exporter": "python",
   "pygments_lexer": "ipython3",
   "version": "3.11.4"
  }
 },
 "nbformat": 4,
 "nbformat_minor": 5
}
