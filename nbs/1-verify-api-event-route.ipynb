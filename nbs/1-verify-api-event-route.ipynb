{
 "cells": [
  {
   "cell_type": "code",
   "execution_count": 9,
   "id": "948ab668",
   "metadata": {},
   "outputs": [
    {
     "name": "stdout",
     "output_type": "stream",
     "text": [
      "http://localhost:8000/api/events\n",
      "True\n",
      "{\"results\":[{\"id\":1,\"page\":\"\",\"description\":\"\"},{\"id\":2,\"page\":\"\",\"description\":\"\"},{\"id\":3,\"page\":\"\",\"description\":\"\"}],\"count\":3}\n"
     ]
    }
   ],
   "source": [
    "import requests\n",
    "path=\"api/events\"\n",
    "base_url=\"http://localhost:8000\"\n",
    "end_point=f\"{base_url}/{path}\"\n",
    "print(end_point)\n",
    "response=requests.get(end_point)\n",
    "print(response.ok)\n",
    "print(response.text)"
   ]
  },
  {
   "cell_type": "code",
   "execution_count": 10,
   "id": "30776805",
   "metadata": {},
   "outputs": [],
   "source": [
    "import requests"
   ]
  },
  {
   "cell_type": "code",
   "execution_count": 11,
   "id": "0d7a82e0-b93c-4cc2-9932-0e4815a3d251",
   "metadata": {},
   "outputs": [
    {
     "name": "stdout",
     "output_type": "stream",
     "text": [
      "{'date': 'Wed, 30 Apr 2025 17:02:28 GMT', 'server': 'uvicorn', 'content-length': '21', 'content-type': 'text/plain; charset=utf-8'}\n",
      "ok False\n",
      "response.text\n"
     ]
    }
   ],
   "source": [
    "path='/api/events/'\n",
    "base_url=\"http://localhost:8000\"\n",
    "create_endpoint=f\"{base_url}/{path}\"\n",
    "response=requests.post(create_endpoint,json={\"page\":\"test\",\"description\":\"123\"})\n",
    "print(response.headers)\n",
    "print('ok',response.ok)\n",
    "if response.ok:\n",
    "    data=response.json()\n",
    "    print(data,type(data),data.get('items'))\n",
    "else:\n",
    "    print('response.text')"
   ]
  },
  {
   "cell_type": "code",
   "execution_count": null,
   "id": "f8eeaaf1-786c-4cb8-993c-15fa85b9b984",
   "metadata": {},
   "outputs": [],
   "source": []
  }
 ],
 "metadata": {
  "kernelspec": {
   "display_name": "Python 3 (ipykernel)",
   "language": "python",
   "name": "python3"
  },
  "language_info": {
   "codemirror_mode": {
    "name": "ipython",
    "version": 3
   },
   "file_extension": ".py",
   "mimetype": "text/x-python",
   "name": "python",
   "nbconvert_exporter": "python",
   "pygments_lexer": "ipython3",
   "version": "3.11.4"
  }
 },
 "nbformat": 4,
 "nbformat_minor": 5
}
