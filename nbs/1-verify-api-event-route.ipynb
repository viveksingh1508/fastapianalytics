{
 "cells": [
  {
   "cell_type": "code",
   "execution_count": 10,
   "id": "948ab668",
   "metadata": {},
   "outputs": [
    {
     "name": "stdout",
     "output_type": "stream",
     "text": [
      "http://localhost:8000/api/events\n",
      "True\n",
      "{\"results\":[{\"description\":\"this is updated description\",\"updated_at\":\"2025-05-01T14:25:44.233388Z\",\"id\":1,\"created_at\":\"2025-05-01T14:25:18.598459Z\",\"page\":\"test\"}],\"count\":1}\n"
     ]
    }
   ],
   "source": [
    "import requests\n",
    "path=\"api/events\"\n",
    "base_url=\"http://localhost:8000\"\n",
    "end_point=f\"{base_url}/{path}\"\n",
    "print(end_point)\n",
    "response=requests.get(end_point)\n",
    "print(response.ok)\n",
    "print(response.text)"
   ]
  },
  {
   "cell_type": "code",
   "execution_count": 6,
   "id": "30776805",
   "metadata": {},
   "outputs": [],
   "source": [
    "import requests"
   ]
  },
  {
   "cell_type": "code",
   "execution_count": 7,
   "id": "0d7a82e0-b93c-4cc2-9932-0e4815a3d251",
   "metadata": {},
   "outputs": [
    {
     "name": "stdout",
     "output_type": "stream",
     "text": [
      "{'date': 'Thu, 01 May 2025 14:25:17 GMT', 'server': 'uvicorn', 'content-length': '128', 'content-type': 'application/json'}\n",
      "ok True\n",
      "{'description': '123', 'updated_at': '2025-05-01T14:25:18.598471Z', 'id': 1, 'created_at': '2025-05-01T14:25:18.598459Z', 'page': 'test'} <class 'dict'> None\n"
     ]
    }
   ],
   "source": [
    "path='/api/events/'\n",
    "base_url=\"http://localhost:8000\"\n",
    "create_endpoint=f\"{base_url}/{path}\"\n",
    "response=requests.post(create_endpoint,json={\"page\":\"test\",\"description\":\"123\"})\n",
    "print(response.headers)\n",
    "print('ok',response.ok)\n",
    "if response.ok:\n",
    "    data=response.json()\n",
    "    print(data,type(data),data.get('items'))\n",
    "else:\n",
    "    print('response.text')"
   ]
  },
  {
   "cell_type": "code",
   "execution_count": 9,
   "id": "f8eeaaf1-786c-4cb8-993c-15fa85b9b984",
   "metadata": {},
   "outputs": [
    {
     "name": "stdout",
     "output_type": "stream",
     "text": [
      "{'date': 'Thu, 01 May 2025 14:25:43 GMT', 'server': 'uvicorn', 'content-length': '152', 'content-type': 'application/json'}\n",
      "ok True\n",
      "{'description': 'this is updated description', 'updated_at': '2025-05-01T14:25:44.233388Z', 'id': 1, 'created_at': '2025-05-01T14:25:18.598459Z', 'page': 'test'} <class 'dict'> None\n"
     ]
    }
   ],
   "source": [
    "path='/api/events/1/'\n",
    "base_url=\"http://localhost:8000\"\n",
    "create_endpoint=f\"{base_url}/{path}\"\n",
    "response=requests.put(create_endpoint,json={\"page\":\"test\",\"description\":\"this is updated description\"})\n",
    "print(response.headers)\n",
    "print('ok',response.ok)\n",
    "if response.ok:\n",
    "    data=response.json()\n",
    "    print(data,type(data),data.get('items'))\n",
    "else:\n",
    "    print('response.text')"
   ]
  },
  {
   "cell_type": "code",
   "execution_count": null,
   "id": "3fdcefe0-0f3d-4e5b-b37b-517b2d0299a5",
   "metadata": {},
   "outputs": [],
   "source": []
  },
  {
   "cell_type": "code",
   "execution_count": null,
   "id": "bdc62fa6-abb0-4d5c-b31d-87984711c951",
   "metadata": {},
   "outputs": [],
   "source": []
  },
  {
   "cell_type": "code",
   "execution_count": null,
   "id": "be69d089-8ceb-4730-af9e-cfcf981b814f",
   "metadata": {},
   "outputs": [],
   "source": []
  },
  {
   "cell_type": "code",
   "execution_count": null,
   "id": "154ec598-2006-44ed-a919-8634d5dd5308",
   "metadata": {},
   "outputs": [],
   "source": []
  }
 ],
 "metadata": {
  "kernelspec": {
   "display_name": "Python 3 (ipykernel)",
   "language": "python",
   "name": "python3"
  },
  "language_info": {
   "codemirror_mode": {
    "name": "ipython",
    "version": 3
   },
   "file_extension": ".py",
   "mimetype": "text/x-python",
   "name": "python",
   "nbconvert_exporter": "python",
   "pygments_lexer": "ipython3",
   "version": "3.11.4"
  }
 },
 "nbformat": 4,
 "nbformat_minor": 5
}
